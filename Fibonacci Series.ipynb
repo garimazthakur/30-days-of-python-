{
 "cells": [
  {
   "cell_type": "markdown",
   "metadata": {},
   "source": [
    "### Fibonacci Series"
   ]
  },
  {
   "cell_type": "code",
   "execution_count": 1,
   "metadata": {},
   "outputs": [],
   "source": [
    "def strgclasify(strg):\n",
    "    str_cls = 'Not'   # this is a default case; if no conditions written below matches then it is not a dynamic string     \n",
    "    dic = {}          #to add the keys and their count in the dic \n",
    "    cnt = []          #to add only the keys in the list \n",
    "   \n",
    "    \"\"\"\n",
    "    length chk: if the length of unique string i.e. we will take set, is less than 3 then str_cls (output) will return dynamic\n",
    "    \n",
    "    \"\"\"\n",
    "    \n",
    "    if len(set(strg))<3:        \n",
    "        str_cls = 'dynamic'\n",
    "    else:\n",
    "        for idx, k in enumerate(strg):     #we will do the key chk, if the key is not present and the leng is>3\n",
    "            if dic.get(k,0)==0:            #if key is not persent, it will generate the defaut key  \n",
    "                dic[k]=1                   #and will add 1 as the value to the key\n",
    "                cnt.append(dic.get(k,0))   #add the key to the cnt variable\n",
    "            else:\n",
    "                dic[k]+=1\n",
    "                cnt.append(dic.get(k,0))\n",
    "\n",
    "            if idx >1:\n",
    "                \n",
    "                \"\"\"\n",
    "                if index of the string (e.g we have aaabc in the string), if third a (i.e. index 2) = the index of first a(i.e 0) + second a(i.e.2)  \n",
    "                then the string is dynamic \n",
    "                \n",
    "                \"\"\"\n",
    "                if  cnt[idx-1] +cnt[idx-2]==cnt[idx]:   \n",
    "                    str_cls = 'dynamic'                 \n",
    "\n",
    "    return str_cls    "
   ]
  },
  {
   "cell_type": "code",
   "execution_count": 2,
   "metadata": {},
   "outputs": [
    {
     "data": {
      "text/plain": [
       "'dynamic'"
      ]
     },
     "execution_count": 2,
     "metadata": {},
     "output_type": "execute_result"
    }
   ],
   "source": [
    "\n",
    "strgclasify(\"aaaach\")\n"
   ]
  },
  {
   "cell_type": "code",
   "execution_count": 3,
   "metadata": {},
   "outputs": [
    {
     "data": {
      "text/plain": [
       "'Not'"
      ]
     },
     "execution_count": 3,
     "metadata": {},
     "output_type": "execute_result"
    }
   ],
   "source": [
    "strgclasify(\"aabch\")"
   ]
  },
  {
   "cell_type": "code",
   "execution_count": null,
   "metadata": {},
   "outputs": [],
   "source": []
  }
 ],
 "metadata": {
  "kernelspec": {
   "display_name": "Python 3",
   "language": "python",
   "name": "python3"
  },
  "language_info": {
   "codemirror_mode": {
    "name": "ipython",
    "version": 3
   },
   "file_extension": ".py",
   "mimetype": "text/x-python",
   "name": "python",
   "nbconvert_exporter": "python",
   "pygments_lexer": "ipython3",
   "version": "3.8.3"
  }
 },
 "nbformat": 4,
 "nbformat_minor": 4
}
