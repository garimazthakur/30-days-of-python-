{
 "cells": [
  {
   "cell_type": "markdown",
   "metadata": {},
   "source": [
    "### Fibonacci Series"
   ]
  },
  {
   "cell_type": "code",
   "execution_count": 1,
   "metadata": {},
   "outputs": [],
   "source": [
    "\n",
    "def strgclasify(strg):\n",
    "    str_cls = 'Not'\n",
    "    dic = {}\n",
    "    cnt = []\n",
    "    if len(set(strg))<3:\n",
    "        str_cls = 'dynamic'\n",
    "    else:\n",
    "        for idx, k in enumerate(strg):\n",
    "            if dic.get(k,0)==0:\n",
    "                dic[k]=1\n",
    "                cnt.append(dic.get(k,0))\n",
    "            else:\n",
    "                dic[k]+=1\n",
    "                cnt.append(dic.get(k,0))\n",
    "\n",
    "            if idx >1:\n",
    "                if  cnt[idx-1] +cnt[idx-2]==cnt[idx]:\n",
    "                    str_cls = 'dynamic'\n",
    "\n",
    "    return str_cls    "
   ]
  },
  {
   "cell_type": "code",
   "execution_count": 2,
   "metadata": {},
   "outputs": [
    {
     "data": {
      "text/plain": [
       "'dynamic'"
      ]
     },
     "execution_count": 2,
     "metadata": {},
     "output_type": "execute_result"
    }
   ],
   "source": [
    "\n",
    "strgclasify(\"aaaach\")\n"
   ]
  },
  {
   "cell_type": "code",
   "execution_count": 3,
   "metadata": {},
   "outputs": [
    {
     "data": {
      "text/plain": [
       "'Not'"
      ]
     },
     "execution_count": 3,
     "metadata": {},
     "output_type": "execute_result"
    }
   ],
   "source": [
    "strgclasify(\"aabch\")"
   ]
  },
  {
   "cell_type": "code",
   "execution_count": null,
   "metadata": {},
   "outputs": [],
   "source": []
  }
 ],
 "metadata": {
  "kernelspec": {
   "display_name": "Python 3",
   "language": "python",
   "name": "python3"
  },
  "language_info": {
   "codemirror_mode": {
    "name": "ipython",
    "version": 3
   },
   "file_extension": ".py",
   "mimetype": "text/x-python",
   "name": "python",
   "nbconvert_exporter": "python",
   "pygments_lexer": "ipython3",
   "version": "3.8.3"
  }
 },
 "nbformat": 4,
 "nbformat_minor": 4
}
