{
 "cells": [
  {
   "cell_type": "code",
   "execution_count": 1,
   "metadata": {},
   "outputs": [],
   "source": [
    "diet = [\"cookie\", \"milk\", \"milk\", \"cookie\", \"milk\", \"cookie\", \"milk\"]\n",
    "diet1 = [\"cookie\"]\n",
    "diet2 = [\"cookie\",\"cookie\",\"milk\",\"milk\",\"milk\"]\n",
    "diet3 = [\"milk\",\"milk\",\"milk\"]"
   ]
  },
  {
   "cell_type": "code",
   "execution_count": 2,
   "metadata": {},
   "outputs": [],
   "source": [
    "def milkcookie(diet):\n",
    "    if len(diet)==1 and \"cookie\" in diet:  #if bear eats only cookie then return no\n",
    "        instruction = \"no\"\n",
    "        \n",
    "    elif \"cookie\" not in diet:  #if bear does not eat any cookie then return yes\n",
    "        instruction = \"yes\"\n",
    "        \n",
    "    else:\n",
    "        #if bear drinks milk after every cookie or not\n",
    "        for i in range(len(diet)-1):\n",
    "            if diet[i]==\"cookie\" and diet[i+1]==\"milk\":\n",
    "                instruction =\"yes\"\n",
    "            else:\n",
    "                instruction = \"no\"\n",
    "    return instruction"
   ]
  },
  {
   "cell_type": "code",
   "execution_count": 3,
   "metadata": {},
   "outputs": [
    {
     "data": {
      "text/plain": [
       "'yes'"
      ]
     },
     "execution_count": 3,
     "metadata": {},
     "output_type": "execute_result"
    }
   ],
   "source": [
    "milkcookie(diet)"
   ]
  },
  {
   "cell_type": "code",
   "execution_count": 4,
   "metadata": {},
   "outputs": [
    {
     "data": {
      "text/plain": [
       "'no'"
      ]
     },
     "execution_count": 4,
     "metadata": {},
     "output_type": "execute_result"
    }
   ],
   "source": [
    "milkcookie(diet1)"
   ]
  },
  {
   "cell_type": "code",
   "execution_count": 5,
   "metadata": {},
   "outputs": [
    {
     "data": {
      "text/plain": [
       "'no'"
      ]
     },
     "execution_count": 5,
     "metadata": {},
     "output_type": "execute_result"
    }
   ],
   "source": [
    "milkcookie(diet2)"
   ]
  },
  {
   "cell_type": "code",
   "execution_count": 6,
   "metadata": {},
   "outputs": [
    {
     "data": {
      "text/plain": [
       "'yes'"
      ]
     },
     "execution_count": 6,
     "metadata": {},
     "output_type": "execute_result"
    }
   ],
   "source": [
    "milkcookie(diet3)"
   ]
  }
 ],
 "metadata": {
  "kernelspec": {
   "display_name": "Python 3",
   "language": "python",
   "name": "python3"
  },
  "language_info": {
   "codemirror_mode": {
    "name": "ipython",
    "version": 3
   },
   "file_extension": ".py",
   "mimetype": "text/x-python",
   "name": "python",
   "nbconvert_exporter": "python",
   "pygments_lexer": "ipython3",
   "version": "3.8.3"
  }
 },
 "nbformat": 4,
 "nbformat_minor": 4
}
