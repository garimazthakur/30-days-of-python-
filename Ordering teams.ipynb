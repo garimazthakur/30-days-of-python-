{
 "cells": [
  {
   "cell_type": "markdown",
   "metadata": {},
   "source": [
    "### Question 2"
   ]
  },
  {
   "cell_type": "code",
   "execution_count": 1,
   "metadata": {},
   "outputs": [],
   "source": [
    "tm1 = [[1, 2, 3], [2, 3, 5], [2, 3, 4]]\n",
    "tm2 = [[1, 2, 3], [2, 3, 4], [2, 3, 4]]\n",
    "tm3 = [[5, 6, 5], [1, 2, 3], [2, 3, 4]]\n"
   ]
  },
  {
   "cell_type": "code",
   "execution_count": 3,
   "metadata": {},
   "outputs": [],
   "source": [
    "def orderitems(tm): \n",
    "    #storing unique values for checking any teammates having same marks \n",
    "    chk_mark = list()   \n",
    "    for x in tm:\n",
    "        if x not in chk_mark:  #creating unique list of scores\n",
    "            chk_mark.append(x)\n",
    "    if tm != chk_mark:  #checking whether the uniquelist and the team original list is same or not. If not same return no \n",
    "        return 'no'\n",
    "    elif sorted(tm) != tm or sorted(tm)==tm:\n",
    "        return 'yes'  # otherwise return \n",
    "    else:\n",
    "        return 'no'\n",
    "        "
   ]
  },
  {
   "cell_type": "code",
   "execution_count": 4,
   "metadata": {},
   "outputs": [
    {
     "data": {
      "text/plain": [
       "'yes'"
      ]
     },
     "execution_count": 4,
     "metadata": {},
     "output_type": "execute_result"
    }
   ],
   "source": [
    "orderitems(tm3)"
   ]
  },
  {
   "cell_type": "code",
   "execution_count": 5,
   "metadata": {},
   "outputs": [
    {
     "data": {
      "text/plain": [
       "'no'"
      ]
     },
     "execution_count": 5,
     "metadata": {},
     "output_type": "execute_result"
    }
   ],
   "source": [
    "orderitems(tm2)"
   ]
  },
  {
   "cell_type": "code",
   "execution_count": 6,
   "metadata": {},
   "outputs": [
    {
     "data": {
      "text/plain": [
       "'yes'"
      ]
     },
     "execution_count": 6,
     "metadata": {},
     "output_type": "execute_result"
    }
   ],
   "source": [
    "orderitems(tm1)"
   ]
  },
  {
   "cell_type": "code",
   "execution_count": null,
   "metadata": {},
   "outputs": [],
   "source": []
  }
 ],
 "metadata": {
  "kernelspec": {
   "display_name": "Python 3",
   "language": "python",
   "name": "python3"
  },
  "language_info": {
   "codemirror_mode": {
    "name": "ipython",
    "version": 3
   },
   "file_extension": ".py",
   "mimetype": "text/x-python",
   "name": "python",
   "nbconvert_exporter": "python",
   "pygments_lexer": "ipython3",
   "version": "3.8.3"
  }
 },
 "nbformat": 4,
 "nbformat_minor": 4
}
